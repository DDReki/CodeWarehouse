{
 "cells": [
  {
   "cell_type": "code",
   "execution_count": 34,
   "metadata": {},
   "outputs": [
    {
     "name": "stdout",
     "output_type": "stream",
     "text": [
      "cookie值: m=adfd6dcb1d85af753d00ea46441ff140|1609297816000\n",
      "第1日热度值：[3592, 1829, 3753, 5054, 9894, 1037, 7581, 5257, 8218, 5244]\n",
      "cookie值: m=eef2458f5cbd66676063134b977722f5|1609297817000\n",
      "第2日热度值：[5993, 9462, 4820, 7555, 1805, 445, 3457, 6417, 6855, 6841]\n",
      "cookie值: m=f0f6f059136052e9d6de2237cdd63e1f|1609297819000\n",
      "第3日热度值：[8814, 4889, 6821, 3063, 1475, 8797, 2370, 1989, 3685, 7603]\n",
      "cookie值: m=20080f4e750509ff8b2bbdea3be6415f|1609297820000\n",
      "第4日热度值：[801, 9557, 7947, 3847, 3336, 4237, 4589, 2477, 5316, 787]\n",
      "cookie值: m=8c3a2ba09143f842d6bc73a234f6ab2b|1609297821000\n",
      "第5日热度值：[7642, 5199, 4247, 4604, 3344, 9769, 6655, 1263, 3209, 5533]\n",
      "热度值总和： 248974\n"
     ]
    }
   ],
   "source": [
    "import requests,json,jsonpath,time,random,execjs\n",
    "def get_cookie():\n",
    "    with open(\"js.js\",encoding = \"utf-8\",mode = \"r\") as f:\n",
    "        f = f.read()\n",
    "        cookie = execjs.compile(f).call('get_m_value')\n",
    "        return cookie\n",
    "def get_url(page,cook):\n",
    "    header = {\n",
    "        'Cookie':cook,\n",
    "        'Host':'match.yuanrenxue.com',\n",
    "        'Referer':'http://match.yuanrenxue.com/match/2',\n",
    "        'User-Agent':'yuanrenxue.project',\n",
    "    }\n",
    "    url = \"http://match.yuanrenxue.com/api/match/2?page={}\".format(page)\n",
    "    response = requests.get(url,headers = header).text\n",
    "    return response\n",
    "def main():\n",
    "    add_sum = 0\n",
    "    for page in range(1,6):\n",
    "        info = get_url(page,get_cookie())\n",
    "        infojson = json.loads(info)\n",
    "        value_data = jsonpath.jsonpath(infojson,\"$..value\")\n",
    "        print(\"cookie值:\",get_cookie())\n",
    "        print(\"第{}日热度值：{}\".format(page,value_data))\n",
    "        vd = [__ for __ in value_data]\n",
    "        add_sum += sum(vd)\n",
    "        time.sleep(1)\n",
    "    print(\"热度值总和：\",add_sum)\n",
    "if __name__ == '__main__':\n",
    "    main()"
   ]
  },
  {
   "cell_type": "code",
   "execution_count": null,
   "metadata": {},
   "outputs": [],
   "source": []
  }
 ],
 "metadata": {
  "kernelspec": {
   "display_name": "Python 3",
   "language": "python",
   "name": "python3"
  },
  "language_info": {
   "codemirror_mode": {
    "name": "ipython",
    "version": 3
   },
   "file_extension": ".py",
   "mimetype": "text/x-python",
   "name": "python",
   "nbconvert_exporter": "python",
   "pygments_lexer": "ipython3",
   "version": "3.7.1"
  }
 },
 "nbformat": 4,
 "nbformat_minor": 4
}
