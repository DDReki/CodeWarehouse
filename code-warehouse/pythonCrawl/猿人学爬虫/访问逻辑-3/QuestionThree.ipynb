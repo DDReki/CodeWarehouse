{
 "cells": [
  {
   "cell_type": "code",
   "execution_count": 47,
   "metadata": {},
   "outputs": [
    {
     "name": "stdout",
     "output_type": "stream",
     "text": [
      "第1注册号:[2838, 7609, 8717, 6923, 5325, 4118, 8884, 8717, 2680, 3721]\n",
      "第2注册号:[8490, 3148, 6025, 8526, 8529, 6481, 9489, 6599, 5500, 8717]\n",
      "第3注册号:[185, 8498, 6102, 9222, 8717, 2008, 9827, 8717, 8224, 2929]\n",
      "第4注册号:[3762, 567, 672, 8717, 9524, 7159, 986, 505, 6535, 9491]\n",
      "第5注册号:[3612, 9095, 7357, 9307, 5650, 2109, 23, 8717, 2110, 2792]\n",
      "出现频次最高的数据： 8717\n"
     ]
    }
   ],
   "source": [
    "import requests,json,jsonpath\n",
    "def main():\n",
    "    session = requests.session()\n",
    "    headers = {\n",
    "    \"Host\":\"match.yuanrenxue.com\",\n",
    "    \"Connection\":\"keep-alive\",\n",
    "    \"Content-Length\":\"0\",\n",
    "    \"User-Agent\":\"yuanrenxue.project\",\n",
    "    \"Accept\":\"*/*\",\n",
    "    \"Origin\":\"http://match.yuanrenxue.com\",\n",
    "    \"Referer\":\"http://match.yuanrenxue.com/match/3\",\n",
    "    \"Accept-Encoding\":\"gzip, deflate\",\n",
    "    \"Accept-Language\":\"zh-CN,zh;q=0.9\",\n",
    "    }\n",
    "    session.headers = headers\n",
    "    logourl = 'http://match.yuanrenxue.com/logo'\n",
    "    lis = []\n",
    "    for page in range(1,6):\n",
    "        #每请求一次page就需要请求一次logo\n",
    "        logo = session.post(logourl)\n",
    "        get_data_url = 'http://match.yuanrenxue.com/api/match/3?page={}'.format(page)\n",
    "        response = session.get(get_data_url).text\n",
    "        jsondata = json.loads(response)\n",
    "        value = jsonpath.jsonpath(jsondata,\"$..value\")\n",
    "        print(\"第{}注册号:{}\".format(page,value))\n",
    "        for v in value:\n",
    "            lis.append(v)\n",
    "    print(\"出现频次最高的数据：\",max(lis,key=lis.count))\n",
    "main()"
   ]
  },
  {
   "cell_type": "code",
   "execution_count": 56,
   "metadata": {},
   "outputs": [],
   "source": [
    "from fake_useragent import UserAgent\n",
    "import random"
   ]
  },
  {
   "cell_type": "code",
   "execution_count": 57,
   "metadata": {},
   "outputs": [
    {
     "name": "stdout",
     "output_type": "stream",
     "text": [
      "1\n",
      "2\n",
      "3\n",
      "4\n",
      "5\n",
      "6\n",
      "7\n",
      "8\n",
      "9\n",
      "10\n",
      "11\n",
      "12\n",
      "13\n",
      "14\n",
      "15\n",
      "16\n",
      "17\n",
      "18\n",
      "19\n",
      "20\n",
      "21\n",
      "22\n",
      "23\n",
      "24\n",
      "25\n",
      "26\n",
      "27\n",
      "28\n",
      "29\n"
     ]
    }
   ],
   "source": [
    "ua = UserAgent()\n",
    "a = ua.random\n",
    "for a in a:\n",
    "    print(a)"
   ]
  },
  {
   "cell_type": "code",
   "execution_count": null,
   "metadata": {},
   "outputs": [],
   "source": []
  }
 ],
 "metadata": {
  "kernelspec": {
   "display_name": "Python 3",
   "language": "python",
   "name": "python3"
  },
  "language_info": {
   "codemirror_mode": {
    "name": "ipython",
    "version": 3
   },
   "file_extension": ".py",
   "mimetype": "text/x-python",
   "name": "python",
   "nbconvert_exporter": "python",
   "pygments_lexer": "ipython3",
   "version": "3.7.1"
  }
 },
 "nbformat": 4,
 "nbformat_minor": 4
}
