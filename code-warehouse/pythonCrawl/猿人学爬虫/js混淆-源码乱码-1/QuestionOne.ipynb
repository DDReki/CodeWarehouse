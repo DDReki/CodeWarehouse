{
 "cells": [
  {
   "cell_type": "code",
   "execution_count": 111,
   "metadata": {},
   "outputs": [],
   "source": []
  },
  {
   "cell_type": "code",
   "execution_count": 130,
   "metadata": {},
   "outputs": [
    {
     "name": "stdout",
     "output_type": "stream",
     "text": [
      "第1页False\n"
     ]
    },
    {
     "ename": "TypeError",
     "evalue": "'bool' object is not iterable",
     "output_type": "error",
     "traceback": [
      "\u001b[1;31m---------------------------------------------------------------------------\u001b[0m",
      "\u001b[1;31mTypeError\u001b[0m                                 Traceback (most recent call last)",
      "\u001b[1;32m<ipython-input-130-ab90af8778bd>\u001b[0m in \u001b[0;36m<module>\u001b[1;34m\u001b[0m\n\u001b[0;32m     31\u001b[0m     \u001b[0mprint\u001b[0m\u001b[1;33m(\u001b[0m\u001b[1;34m\"平均价格：\"\u001b[0m\u001b[1;33m,\u001b[0m\u001b[0mmoney\u001b[0m\u001b[1;33m/\u001b[0m\u001b[0mcount\u001b[0m\u001b[1;33m)\u001b[0m\u001b[1;33m\u001b[0m\u001b[1;33m\u001b[0m\u001b[0m\n\u001b[0;32m     32\u001b[0m \u001b[1;32mif\u001b[0m \u001b[0m__name__\u001b[0m \u001b[1;33m==\u001b[0m \u001b[1;34m'__main__'\u001b[0m\u001b[1;33m:\u001b[0m\u001b[1;33m\u001b[0m\u001b[1;33m\u001b[0m\u001b[0m\n\u001b[1;32m---> 33\u001b[1;33m     \u001b[0mmain\u001b[0m\u001b[1;33m(\u001b[0m\u001b[1;33m)\u001b[0m\u001b[1;33m\u001b[0m\u001b[1;33m\u001b[0m\u001b[0m\n\u001b[0m\u001b[0;32m     34\u001b[0m \u001b[1;33m\u001b[0m\u001b[0m\n\u001b[0;32m     35\u001b[0m \u001b[1;33m\u001b[0m\u001b[0m\n",
      "\u001b[1;32m<ipython-input-130-ab90af8778bd>\u001b[0m in \u001b[0;36mmain\u001b[1;34m()\u001b[0m\n\u001b[0;32m     26\u001b[0m         \u001b[0mprice\u001b[0m \u001b[1;33m=\u001b[0m \u001b[0mjsonpath\u001b[0m\u001b[1;33m.\u001b[0m\u001b[0mjsonpath\u001b[0m\u001b[1;33m(\u001b[0m\u001b[0mdata\u001b[0m\u001b[1;33m,\u001b[0m\u001b[1;34m\"$..value\"\u001b[0m\u001b[1;33m)\u001b[0m\u001b[1;33m\u001b[0m\u001b[1;33m\u001b[0m\u001b[0m\n\u001b[0;32m     27\u001b[0m         \u001b[0mprint\u001b[0m\u001b[1;33m(\u001b[0m\u001b[1;34m\"第{}页{}\"\u001b[0m\u001b[1;33m.\u001b[0m\u001b[0mformat\u001b[0m\u001b[1;33m(\u001b[0m\u001b[0mi\u001b[0m\u001b[1;33m,\u001b[0m\u001b[0mprice\u001b[0m\u001b[1;33m)\u001b[0m\u001b[1;33m)\u001b[0m\u001b[1;33m\u001b[0m\u001b[1;33m\u001b[0m\u001b[0m\n\u001b[1;32m---> 28\u001b[1;33m         \u001b[1;32mfor\u001b[0m \u001b[0mj\u001b[0m \u001b[1;32min\u001b[0m \u001b[0mprice\u001b[0m\u001b[1;33m:\u001b[0m\u001b[1;33m\u001b[0m\u001b[1;33m\u001b[0m\u001b[0m\n\u001b[0m\u001b[0;32m     29\u001b[0m             \u001b[0mmoney_sum\u001b[0m\u001b[1;33m+=\u001b[0m\u001b[0mj\u001b[0m\u001b[1;33m\u001b[0m\u001b[1;33m\u001b[0m\u001b[0m\n\u001b[0;32m     30\u001b[0m             \u001b[0mcount\u001b[0m\u001b[1;33m+=\u001b[0m\u001b[1;36m1\u001b[0m\u001b[1;33m\u001b[0m\u001b[1;33m\u001b[0m\u001b[0m\n",
      "\u001b[1;31mTypeError\u001b[0m: 'bool' object is not iterable"
     ]
    }
   ],
   "source": [
    "import requests\n",
    "import execjs\n",
    "import time\n",
    "import jsonpath,json\n",
    "def getCipher():\n",
    "    with open(\"get_cipher.js\",encoding=\"utf-8\",mode=\"r\") as f:\n",
    "        jsData = f.read()\n",
    "        cipher = execjs.compile(jsData).call('get_cipher')\n",
    "        cipher = cipher.replace(' | ','%E4%B8%A8')\n",
    "        return cipher\n",
    "def getData(page_num,md5):\n",
    "    url = 'http://match.yuanrenxue.com/api/match/1?page={}&m={}'.format(page_num,md5)\n",
    "    header = {\n",
    "        'Host':'match.yuanrenxue.com',\n",
    "        'Referer':'http://match.yuanrenxue.com/match/1',\n",
    "        'User-Agent':'yuanrenxue.project',\n",
    "    }\n",
    "    response = requests.get(url,headers = header).text\n",
    "    return response\n",
    "def main():\n",
    "    money_sum = 0\n",
    "    count =0\n",
    "    for i in range(1,6):\n",
    "        info = getData(i,getCipher())\n",
    "        data = json.loads(info)\n",
    "        price = jsonpath.jsonpath(data,\"$..value\")\n",
    "        print(\"第{}页{}\".format(i,price))\n",
    "        for j in price:\n",
    "            money_sum+=j\n",
    "            count+=1\n",
    "    print(\"平均价格：\",money/count)\n",
    "if __name__ == '__main__':\n",
    "    main()\n",
    "\n",
    "        "
   ]
  },
  {
   "cell_type": "code",
   "execution_count": 139,
   "metadata": {},
   "outputs": [
    {
     "name": "stdout",
     "output_type": "stream",
     "text": [
      "http://match.yuanrenxue.com/api/match/1?page=1&m=fac30e8b1f385e2eecd11154f33aa469%E4%B8%A81609329215\n",
      "{\"error\": \"token failed\"}\n",
      "http://match.yuanrenxue.com/api/match/1?page=2&m=fac30e8b1f385e2eecd11154f33aa469%E4%B8%A81609329215\n",
      "{\"error\": \"token failed\"}\n",
      "http://match.yuanrenxue.com/api/match/1?page=3&m=fac30e8b1f385e2eecd11154f33aa469%E4%B8%A81609329215\n",
      "{\"error\": \"token failed\"}\n",
      "http://match.yuanrenxue.com/api/match/1?page=4&m=fac30e8b1f385e2eecd11154f33aa469%E4%B8%A81609329215\n",
      "{\"error\": \"token failed\"}\n",
      "http://match.yuanrenxue.com/api/match/1?page=5&m=fac30e8b1f385e2eecd11154f33aa469%E4%B8%A81609329215\n",
      "{\"error\": \"token failed\"}\n"
     ]
    }
   ],
   "source": [
    "with open(\"get_cipher.js\",encoding=\"utf-8\",mode=\"r\") as f:\n",
    "    jsData = f.read()\n",
    "    cipher = execjs.compile(jsData).call('get_cipher')\n",
    "    cipher = cipher.replace(' | ','%E4%B8%A8')\n",
    "sum_num = 0\n",
    "index_num =0\n",
    "for i in range(1,6):\n",
    "    url = 'http://match.yuanrenxue.com/api/match/1?page={}&m={}'.format(i,cipher)\n",
    "    header = {\n",
    "        'Host':'match.yuanrenxue.com',\n",
    "        'Referer':'http://match.yuanrenxue.com/match/1',\n",
    "        'User-Agent':'yuanrenxue.project',\n",
    "    }\n",
    "    print(url)\n",
    "    response = requests.get(url,headers = header).text\n",
    "    print(response)\n",
    "#     data = json.loads(response)\n",
    "#     price = jsonpath.jsonpath(data,\"$..value\")\n",
    "#     for j in price:\n",
    "#         sum_num+=j\n",
    "#         index_num+=1\n",
    "#     print(sum_num/index_num)"
   ]
  },
  {
   "cell_type": "code",
   "execution_count": 136,
   "metadata": {},
   "outputs": [
    {
     "name": "stdout",
     "output_type": "stream",
     "text": [
      "http://match.yuanrenxue.com/api/match/1?page=1&m=c4ccc505be4b0ee98913ef79310983c1%E4%B8%A81609329065\n",
      "{\"status\": \"1\", \"state\": \"success\", \"data\": [{\"value\": 8179}, {\"value\": 6177}, {\"value\": 4174}, {\"value\": 5945}, {\"value\": 9556}, {\"value\": 2318}, {\"value\": 4}, {\"value\": 2653}, {\"value\": 4855}, {\"value\": 1370}]}\n",
      "http://match.yuanrenxue.com/api/match/1?page=2&m=c4ccc505be4b0ee98913ef79310983c1%E4%B8%A81609329065\n",
      "{\"status\": \"1\", \"state\": \"success\", \"data\": [{\"value\": 2366}, {\"value\": 2108}, {\"value\": 6159}, {\"value\": 5685}, {\"value\": 2010}, {\"value\": 7109}, {\"value\": 1002}, {\"value\": 9300}, {\"value\": 8995}, {\"value\": 5732}]}\n",
      "http://match.yuanrenxue.com/api/match/1?page=3&m=c4ccc505be4b0ee98913ef79310983c1%E4%B8%A81609329065\n",
      "{\"status\": \"1\", \"state\": \"success\", \"data\": [{\"value\": 5535}, {\"value\": 7126}, {\"value\": 7472}, {\"value\": 4129}, {\"value\": 2724}, {\"value\": 3475}, {\"value\": 3605}, {\"value\": 7729}, {\"value\": 1860}, {\"value\": 833}]}\n",
      "http://match.yuanrenxue.com/api/match/1?page=4&m=c4ccc505be4b0ee98913ef79310983c1%E4%B8%A81609329065\n",
      "{\"status\": \"1\", \"state\": \"success\", \"data\": [{\"value\": 3937}, {\"value\": 6420}, {\"value\": 115}, {\"value\": 4333}, {\"value\": 6674}, {\"value\": 383}, {\"value\": 5922}, {\"value\": 7344}, {\"value\": 7012}, {\"value\": 8009}]}\n",
      "http://match.yuanrenxue.com/api/match/1?page=5&m=c4ccc505be4b0ee98913ef79310983c1%E4%B8%A81609329065\n",
      "{\"status\": \"1\", \"state\": \"success\", \"data\": [{\"value\": 9297}, {\"value\": 8727}, {\"value\": 4130}, {\"value\": 1910}, {\"value\": 5976}, {\"value\": 2973}, {\"value\": 1756}, {\"value\": 6725}, {\"value\": 1716}, {\"value\": 1456}]}\n"
     ]
    }
   ],
   "source": [
    "with open(\"get_cipher.js\",encoding=\"utf-8\",mode=\"r\") as f:\n",
    "    jsData = f.read()\n",
    "    cipher = execjs.compile(jsData).call('get_cipher')\n",
    "    cipher = cipher.replace(' | ','%E4%B8%A8')\n",
    "sum_num = 0\n",
    "index_num =0\n",
    "for i in range(1,6):\n",
    "    url = 'http://match.yuanrenxue.com/api/match/1?page={}&m={}'.format(i,cipher)\n",
    "    header = {\n",
    "        'Host':'match.yuanrenxue.com',\n",
    "        'Referer':'http://match.yuanrenxue.com/match/1',\n",
    "        'User-Agent':'yuanrenxue.project',\n",
    "    }\n",
    "    print(url)\n",
    "    response = requests.get(url,headers = header).text\n",
    "    print(response)\n",
    "http://match.yuanrenxue.com/api/match/1?page=1&m=fac30e8b1f385e2eecd11154f33aa469%E4%B8%A81609329028\n",
    "http://match.yuanrenxue.com/api/match/1?page=1&m=c4ccc505be4b0ee98913ef79310983c1%E4%B8%A81609329065"
   ]
  },
  {
   "cell_type": "code",
   "execution_count": null,
   "metadata": {},
   "outputs": [],
   "source": []
  }
 ],
 "metadata": {
  "kernelspec": {
   "display_name": "Python 3",
   "language": "python",
   "name": "python3"
  },
  "language_info": {
   "codemirror_mode": {
    "name": "ipython",
    "version": 3
   },
   "file_extension": ".py",
   "mimetype": "text/x-python",
   "name": "python",
   "nbconvert_exporter": "python",
   "pygments_lexer": "ipython3",
   "version": "3.7.1"
  }
 },
 "nbformat": 4,
 "nbformat_minor": 4
}
