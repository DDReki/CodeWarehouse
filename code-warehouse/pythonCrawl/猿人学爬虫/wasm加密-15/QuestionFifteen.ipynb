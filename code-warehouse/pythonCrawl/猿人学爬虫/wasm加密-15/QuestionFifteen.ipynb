{
 "cells": [
  {
   "cell_type": "code",
   "execution_count": 61,
   "metadata": {},
   "outputs": [
    {
     "name": "stdout",
     "output_type": "stream",
     "text": [
      "第1页：[2086, 9613, 8563, 9659, 7656, 4363, 8892, 3371, 1335, 3312]\n",
      "第2页：[8992, 678, 3708, 8387, 2657, 1345, 9763, 800, 4328, 104]\n",
      "第3页：[2795, 2594, 9150, 6656, 5834, 476, 1968, 1218, 5901, 1851]\n",
      "第4页：[1317, 6556, 2163, 1628, 930, 2919, 9012, 8671, 1232, 4586]\n",
      "第5页：[492, 7595, 3262, 9299, 7287, 4316, 3091, 1926, 2803, 2248]\n",
      "累加和： 219388\n"
     ]
    }
   ],
   "source": [
    "import requests,execjs,time,pywasm,json,jsonpath\n",
    "def main():\n",
    "    with open('js.js',encoding='utf-8',mode ='r') as f:\n",
    "        jsdata = f.read()\n",
    "        m1,m2 = execjs.compile(jsdata).call('get_m')\n",
    "    wasmdata = pywasm.load('main.wasm')\n",
    "    m = wasmdata.exec('encode',[m1,m2])\n",
    "    get_m = f'{m}|{m1}|{m2}'\n",
    "    add_sum = 0\n",
    "    for i in range(1,6):\n",
    "        url = f'http://match.yuanrenxue.com/api/match/15?m={get_m}&page={i}'\n",
    "        headers = {'user-agent':'yuanrenxue.project'}\n",
    "        response = requests.get(url,headers=headers).text\n",
    "        jsondata = json.loads(response)\n",
    "        value = jsonpath.jsonpath(jsondata,'$..value')\n",
    "        print(f'第{i}页：{value}')\n",
    "        for j in value:\n",
    "            add_sum+=j\n",
    "    print('累加和：',add_sum)\n",
    "main()"
   ]
  },
  {
   "cell_type": "code",
   "execution_count": 73,
   "metadata": {},
   "outputs": [
    {
     "name": "stdout",
     "output_type": "stream",
     "text": [
      "第1页：[2086, 9613, 8563, 9659, 7656, 4363, 8892, 3371, 1335, 3312]\n",
      "第2页：[8992, 678, 3708, 8387, 2657, 1345, 9763, 800, 4328, 104]\n",
      "第3页：[2795, 2594, 9150, 6656, 5834, 476, 1968, 1218, 5901, 1851]\n",
      "第4页：[1317, 6556, 2163, 1628, 930, 2919, 9012, 8671, 1232, 4586]\n",
      "第5页：[492, 7595, 3262, 9299, 7287, 4316, 3091, 1926, 2803, 2248]\n",
      "累加和： 219388\n"
     ]
    }
   ],
   "source": [
    "'''\n",
    "t1 = parseInt(Date.parse(new Date())/1000/2);\n",
    "t2 = parseInt(Date.parse(new Date())/1000/2 - Math.floor(Math.random() * (50) + 1));\n",
    "return Base64.encode(t1,t2).toString() + '|' + t1 + '|' + t2;\n",
    "'''\n",
    "import requests,time,pywasm,json,jsonpath\n",
    "def main():\n",
    "    t = int(time.time())\n",
    "    t1 = int(t/2)\n",
    "    t2 = int(t/2-math.floor(random.random()*50+1))\n",
    "    wasmdata = pywasm.load('main.wasm')\n",
    "    m = wasmdata.exec('encode',[t1,t2])\n",
    "    get_m = f'{m}|{t1}|{t2}'\n",
    "    add_sum = 0\n",
    "    for i in range(1,6):\n",
    "        url = f'http://match.yuanrenxue.com/api/match/15?m={get_m}&page={i}'\n",
    "        headers = {'user-agent':'yuanrenxue.project'}\n",
    "        response = requests.get(url,headers=headers).text\n",
    "        jsondata = json.loads(response)\n",
    "        value = jsonpath.jsonpath(jsondata,'$..value')\n",
    "        print(f'第{i}页：{value}')\n",
    "        for j in value:\n",
    "            add_sum+=j\n",
    "    print('累加和：',add_sum)\n",
    "main()"
   ]
  }
 ],
 "metadata": {
  "kernelspec": {
   "display_name": "Python 3",
   "language": "python",
   "name": "python3"
  },
  "language_info": {
   "codemirror_mode": {
    "name": "ipython",
    "version": 3
   },
   "file_extension": ".py",
   "mimetype": "text/x-python",
   "name": "python",
   "nbconvert_exporter": "python",
   "pygments_lexer": "ipython3",
   "version": "3.7.1"
  }
 },
 "nbformat": 4,
 "nbformat_minor": 4
}
