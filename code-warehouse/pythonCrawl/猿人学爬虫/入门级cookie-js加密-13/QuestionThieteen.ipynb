{
 "cells": [
  {
   "cell_type": "code",
   "execution_count": 31,
   "metadata": {},
   "outputs": [
    {
     "name": "stdout",
     "output_type": "stream",
     "text": [
      "cookies： {'yuanrenxue_cookie': '1609737703|4QHUH8OnCiTqR6Itm0ih5dlNoEqtxE3xOXsA6pjeRlywO5JWLhLhkJGwFAytl6uIXWiFAEgpdI3nSYX3fNPNBVZbwQ2RBG29deGjw9nsJVLJMcsO6yyrK6kwPnnSlfTmvLesCbA5zxCvc7sYVMxK1dDUJ8Bdkns6X4blomj2UaeWwKBjDFQy8'}\n",
      "第1页:[5900, 1836, 3620, 2931, 5143, 9694, 5259, 2302, 2744, 753]\n",
      "第2页:[6276, 6782, 834, 1238, 81, 9528, 7213, 8388, 6071, 1368]\n",
      "第3页:[1728, 9544, 8528, 4339, 202, 4272, 2412, 7445, 2475, 3367]\n",
      "第4页:[7218, 3429, 9857, 5408, 3633, 854, 3885, 1407, 5138, 1873]\n",
      "第5页:[407, 3781, 3108, 668, 4793, 1019, 7439, 6946, 3404, 6593]\n",
      "总和： 213133\n"
     ]
    }
   ],
   "source": [
    "import requests,json,jsonpath,re,time\n",
    "def main():\n",
    "    get_cookie_url = 'http://match.yuanrenxue.com/match/13'\n",
    "    session = requests.session()\n",
    "    response_cookie = session.get(get_cookie_url).text\n",
    "    rule = re.compile(\"'([a-zA-z0-9_=|])'\")\n",
    "    extract_cookie = rule.findall(response_cookie)\n",
    "    cookie = ''.join(extract_cookie)\n",
    "    key,value = cookie.split('=')\n",
    "    cookie_value = {\n",
    "        'yuanrenxue_cookie':value,\n",
    "    }\n",
    "    print('cookies：',cookie_value)\n",
    "    add_sum = 0\n",
    "    for i in range(1,6):\n",
    "        url = f'http://match.yuanrenxue.com/api/match/13?page={i}'\n",
    "        headers = {\n",
    "            'user-agent':'yuanrenxue.project',\n",
    "        }\n",
    "        response = session.get(url,headers = headers,cookies = cookie_value).text\n",
    "        jsondata = json.loads(response)\n",
    "        value = jsonpath.jsonpath(jsondata,'$..value')\n",
    "        print(f'第{i}页:{value}')\n",
    "        time.sleep(1)\n",
    "        for j in value:\n",
    "            add_sum+=j\n",
    "    print('总和：',add_sum)\n",
    "main()"
   ]
  },
  {
   "cell_type": "code",
   "execution_count": null,
   "metadata": {},
   "outputs": [],
   "source": []
  }
 ],
 "metadata": {
  "kernelspec": {
   "display_name": "Python 3",
   "language": "python",
   "name": "python3"
  },
  "language_info": {
   "codemirror_mode": {
    "name": "ipython",
    "version": 3
   },
   "file_extension": ".py",
   "mimetype": "text/x-python",
   "name": "python",
   "nbconvert_exporter": "python",
   "pygments_lexer": "ipython3",
   "version": "3.7.1"
  }
 },
 "nbformat": 4,
 "nbformat_minor": 4
}
