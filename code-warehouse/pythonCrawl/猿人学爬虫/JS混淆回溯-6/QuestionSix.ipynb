{
 "cells": [
  {
   "cell_type": "markdown",
   "metadata": {},
   "source": [
    "二等奖 * 8\n",
    "一等奖 * 15\n",
    "总销售额 * 24"
   ]
  },
  {
   "cell_type": "code",
   "execution_count": 25,
   "metadata": {},
   "outputs": [
    {
     "name": "stdout",
     "output_type": "stream",
     "text": [
      "第1页:\n",
      "总销售额[157488, 16560, 188232, 234240, 217176, 138768, 117480, 205128, 165096, 112680],\n",
      "一等奖金额[98430, 10350, 117645, 146400, 135735, 86730, 73425, 128205, 103185, 70425],\n",
      "二等奖金额[52496, 5520, 62744, 78080, 72392, 46256, 39160, 68376, 55032, 37560],\n",
      "三等奖金额[6562, 690, 7843, 9760, 9049, 5782, 4895, 8547, 6879, 4695]\n",
      "第2页:\n",
      "总销售额[236064, 133656, 71616, 12072, 50808, 12048, 235104, 219192, 131664, 239064],\n",
      "一等奖金额[147540, 83535, 44760, 7545, 31755, 7530, 146940, 136995, 82290, 149415],\n",
      "二等奖金额[78688, 44552, 23872, 4024, 16936, 4016, 78368, 73064, 43888, 79688],\n",
      "三等奖金额[9836, 5569, 2984, 503, 2117, 502, 9796, 9133, 5486, 9961]\n"
     ]
    }
   ],
   "source": [
    "import requests,execjs,time,json,jsonpath\n",
    "def get_js(t,p):\n",
    "    with open('js.js',encoding='utf-8',mode='r') as f:\n",
    "        jsData = f.read()\n",
    "        [m,timestamp] = execjs.compile(jsData).call('r',t,p)\n",
    "        q = f'{p}-' + str(timestamp) + '|'\n",
    "        return m,q\n",
    "def get_page(page):\n",
    "    m,q = get_js(int(time.time()) * 1000,page)\n",
    "    params = {\n",
    "        'page':page,\n",
    "        'm':m,\n",
    "        'q':q\n",
    "    }\n",
    "    url = 'http://match.yuanrenxue.com/api/match/6'\n",
    "    header = {\n",
    "        'User-Agent': 'yuanrenxue.project'\n",
    "    }\n",
    "    response = requests.get(url,headers=header,params=params).text\n",
    "    jsondata = json.loads(response)\n",
    "    three = jsonpath.jsonpath(jsondata,'$..value')\n",
    "    total = [i*24 for i in three]\n",
    "    one = [i*15 for i in three]\n",
    "    two = [i*8 for i in three]\n",
    "    n = '\\n'\n",
    "    print(f'第{page}页:{n}总销售额{total},{n}一等奖金额{one},{n}二等奖金额{two},{n}三等奖金额{three}')\n",
    "if __name__ == '__main__':\n",
    "    for i in range(1,3):\n",
    "        get_page(i)"
   ]
  },
  {
   "cell_type": "code",
   "execution_count": 11,
   "metadata": {},
   "outputs": [
    {
     "data": {
      "text/plain": [
       "1612849028000"
      ]
     },
     "execution_count": 11,
     "metadata": {},
     "output_type": "execute_result"
    }
   ],
   "source": [
    "，总销售额{value*24},一等奖金额{value*15},二等奖金额{value*8},"
   ]
  },
  {
   "cell_type": "code",
   "execution_count": 23,
   "metadata": {},
   "outputs": [
    {
     "name": "stdout",
     "output_type": "stream",
     "text": [
      "[6562, 690, 7843, 9760, 9049, 5782, 4895, 8547, 6879, 4695, 6562, 690, 7843, 9760, 9049, 5782, 4895, 8547, 6879, 4695, 6562, 690, 7843, 9760, 9049, 5782, 4895, 8547, 6879, 4695, 6562, 690, 7843, 9760, 9049, 5782, 4895, 8547, 6879, 4695, 6562, 690, 7843, 9760, 9049, 5782, 4895, 8547, 6879, 4695, 6562, 690, 7843, 9760, 9049, 5782, 4895, 8547, 6879, 4695, 6562, 690, 7843, 9760, 9049, 5782, 4895, 8547, 6879, 4695, 6562, 690, 7843, 9760, 9049, 5782, 4895, 8547, 6879, 4695, 6562, 690, 7843, 9760, 9049, 5782, 4895, 8547, 6879, 4695, 6562, 690, 7843, 9760, 9049, 5782, 4895, 8547, 6879, 4695, 6562, 690, 7843, 9760, 9049, 5782, 4895, 8547, 6879, 4695, 6562, 690, 7843, 9760, 9049, 5782, 4895, 8547, 6879, 4695, 6562, 690, 7843, 9760, 9049, 5782, 4895, 8547, 6879, 4695, 6562, 690, 7843, 9760, 9049, 5782, 4895, 8547, 6879, 4695, 6562, 690, 7843, 9760, 9049, 5782, 4895, 8547, 6879, 4695]\n"
     ]
    }
   ],
   "source": []
  },
  {
   "cell_type": "code",
   "execution_count": null,
   "metadata": {},
   "outputs": [],
   "source": []
  }
 ],
 "metadata": {
  "kernelspec": {
   "display_name": "Python 3",
   "language": "python",
   "name": "python3"
  },
  "language_info": {
   "codemirror_mode": {
    "name": "ipython",
    "version": 3
   },
   "file_extension": ".py",
   "mimetype": "text/x-python",
   "name": "python",
   "nbconvert_exporter": "python",
   "pygments_lexer": "ipython3",
   "version": "3.7.1"
  },
  "toc": {
   "base_numbering": 1,
   "nav_menu": {},
   "number_sections": true,
   "sideBar": true,
   "skip_h1_title": false,
   "title_cell": "Table of Contents",
   "title_sidebar": "Contents",
   "toc_cell": false,
   "toc_position": {},
   "toc_section_display": true,
   "toc_window_display": false
  }
 },
 "nbformat": 4,
 "nbformat_minor": 4
}
