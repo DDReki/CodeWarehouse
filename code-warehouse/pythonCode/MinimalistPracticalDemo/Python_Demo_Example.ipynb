{
 "cells": [
  {
   "cell_type": "markdown",
   "metadata": {},
   "source": [
    "#### 重复元素判定\n",
    "以下方法可以检查给定列表是不是存在重复元素，它会使用 set() 函数来移除所有重复元素。"
   ]
  },
  {
   "cell_type": "code",
   "execution_count": 43,
   "metadata": {},
   "outputs": [
    {
     "data": {
      "text/plain": [
       "True"
      ]
     },
     "execution_count": 43,
     "metadata": {},
     "output_type": "execute_result"
    }
   ],
   "source": [
    "def all_unique(lis):\n",
    "    return len(lis) != len(set(lis))\n",
    "x = [1,1,2,2,3,2,3,4,5,6]\n",
    "y = [1,2,3,4,5]\n",
    "all_unique(x)"
   ]
  },
  {
   "cell_type": "markdown",
   "metadata": {},
   "source": [
    "#### 字符元素组成判定\n",
    "检查两个字符串的组成元素是不是一样的。"
   ]
  },
  {
   "cell_type": "code",
   "execution_count": 4,
   "metadata": {},
   "outputs": [
    {
     "data": {
      "text/plain": [
       "True"
      ]
     },
     "execution_count": 4,
     "metadata": {},
     "output_type": "execute_result"
    }
   ],
   "source": [
    "from collections import Counter\n",
    "\n",
    "def anagram(first, second):\n",
    "    return Counter(first) == Counter(second)\n",
    "\n",
    "anagram(\"abcd3\", \"3acdb\")"
   ]
  },
  {
   "cell_type": "markdown",
   "metadata": {},
   "source": [
    "#### 内存占用\n",
    "下面的代码块可以检查变量 variable 所占用的内存。"
   ]
  },
  {
   "cell_type": "code",
   "execution_count": 8,
   "metadata": {},
   "outputs": [
    {
     "name": "stdout",
     "output_type": "stream",
     "text": [
      "50\n"
     ]
    }
   ],
   "source": [
    "import sys\n",
    "variable = 'a'\n",
    "print(sys.getsizeof(variable))"
   ]
  },
  {
   "cell_type": "markdown",
   "metadata": {},
   "source": [
    "#### 字节占用\n",
    "下面的代码块可以检查字符串占用的字节数。"
   ]
  },
  {
   "cell_type": "code",
   "execution_count": 10,
   "metadata": {},
   "outputs": [
    {
     "data": {
      "text/plain": [
       "4"
      ]
     },
     "execution_count": 10,
     "metadata": {},
     "output_type": "execute_result"
    }
   ],
   "source": [
    "def byte_size(string):\n",
    "    return(len(string.encode('utf-8')))\n",
    "\n",
    "byte_size('😀')"
   ]
  },
  {
   "cell_type": "markdown",
   "metadata": {},
   "source": [
    "#### 打印 N 次字符串\n",
    "该代码块不需要循环语句就能打印 N 次字符串。"
   ]
  },
  {
   "cell_type": "code",
   "execution_count": 11,
   "metadata": {},
   "outputs": [
    {
     "name": "stdout",
     "output_type": "stream",
     "text": [
      "ProgrammingProgramming\n"
     ]
    }
   ],
   "source": [
    "n = 2;\n",
    "s =\"Programming\";\n",
    "\n",
    "print(s * n);"
   ]
  },
  {
   "cell_type": "markdown",
   "metadata": {},
   "source": [
    "#### 大写第一个字母\n",
    "以下代码块会使用 title() 方法，从而大写字符串中每一个单词的首字母。"
   ]
  },
  {
   "cell_type": "code",
   "execution_count": 12,
   "metadata": {},
   "outputs": [
    {
     "name": "stdout",
     "output_type": "stream",
     "text": [
      "Programming Is Awesome\n"
     ]
    }
   ],
   "source": [
    "s = \"programming is awesome\"\n",
    "\n",
    "print(s.title())"
   ]
  },
  {
   "cell_type": "markdown",
   "metadata": {},
   "source": [
    "#### 分块\n",
    "给定具体的大小，定义一个函数以按照这个大小切割列表。"
   ]
  },
  {
   "cell_type": "code",
   "execution_count": 13,
   "metadata": {},
   "outputs": [
    {
     "data": {
      "text/plain": [
       "[[1, 2], [3, 4], [5]]"
      ]
     },
     "execution_count": 13,
     "metadata": {},
     "output_type": "execute_result"
    }
   ],
   "source": [
    "from math import ceil\n",
    "\n",
    "def chunk(lst, size):\n",
    "    return list(\n",
    "     map(lambda x: lst[x * size:x * size + size],\n",
    "        list(range(0, ceil(len(lst) / size)))))\n",
    "\n",
    "chunk([1,2,3,4,5],2)"
   ]
  },
  {
   "cell_type": "markdown",
   "metadata": {},
   "source": [
    "#### 压缩\n",
    "这个方法可以将布尔型的值去掉，例如（False，None，0，“”），它使用 filter() 函数。"
   ]
  },
  {
   "cell_type": "code",
   "execution_count": 14,
   "metadata": {},
   "outputs": [
    {
     "data": {
      "text/plain": [
       "[1, 2, 3, 'a', 's', 34]"
      ]
     },
     "execution_count": 14,
     "metadata": {},
     "output_type": "execute_result"
    }
   ],
   "source": [
    "def compact(lst):\n",
    "    return list(filter(bool, lst))\n",
    "\n",
    "compact([0, 1, False, 2, '', 3, 'a', 's', 34])"
   ]
  },
  {
   "cell_type": "markdown",
   "metadata": {},
   "source": [
    "#### 解包\n",
    "如下代码段可以将打包好的成对列表解开成两组不同的元组。"
   ]
  },
  {
   "cell_type": "code",
   "execution_count": 23,
   "metadata": {},
   "outputs": [
    {
     "name": "stdout",
     "output_type": "stream",
     "text": [
      "('a', 'c', 'e')\n",
      "('b', 'd', 'f')\n"
     ]
    }
   ],
   "source": [
    "array = [['a', 'b'], ['c', 'd'], ['e', 'f']]\n",
    "transposed = zip(*array)\n",
    "for t in transposed:\n",
    "    print(t)"
   ]
  },
  {
   "cell_type": "markdown",
   "metadata": {},
   "source": [
    "#### 链式对比\n",
    "我们可以在一行代码中使用不同的运算符对比多个不同的元素。"
   ]
  },
  {
   "cell_type": "code",
   "execution_count": 24,
   "metadata": {},
   "outputs": [
    {
     "name": "stdout",
     "output_type": "stream",
     "text": [
      "True\n",
      "False\n"
     ]
    }
   ],
   "source": [
    "a = 3\n",
    "print( 2 < a < 8)\n",
    "print(1 == a < 2)"
   ]
  },
  {
   "cell_type": "markdown",
   "metadata": {},
   "source": [
    "#### 逗号连接\n",
    "下面的代码可以将列表连接成单个字符串，且每一个元素间的分隔方式设置为了逗号。"
   ]
  },
  {
   "cell_type": "code",
   "execution_count": 28,
   "metadata": {},
   "outputs": [
    {
     "name": "stdout",
     "output_type": "stream",
     "text": [
      "My hobbies are: basketball, football, swimming\n",
      "My hobbies are: basketball, football, swimming\n"
     ]
    }
   ],
   "source": [
    "hobbies = [\"basketball\", \"football\", \"swimming\"]\n",
    "\n",
    "print(\"My hobbies are: \" + \", \".join(hobbies))\n",
    "print(f\"My hobbies are: {', '.join(hobbies)}\")"
   ]
  },
  {
   "cell_type": "markdown",
   "metadata": {},
   "source": [
    "#### 元音统计\n",
    "以下方法将统计字符串中的元音 (‘a’,‘e’,‘i’,‘o’,‘u’) 的个数，它是通过正则表达式做的。"
   ]
  },
  {
   "cell_type": "code",
   "execution_count": 31,
   "metadata": {},
   "outputs": [
    {
     "data": {
      "text/plain": [
       "3"
      ]
     },
     "execution_count": 31,
     "metadata": {},
     "output_type": "execute_result"
    }
   ],
   "source": [
    "import re\n",
    "\n",
    "def count_vowels(str):\n",
    "    return len(re.findall(r'[aeiou]', str, re.IGNORECASE))\n",
    "\n",
    "count_vowels('foobar')"
   ]
  },
  {
   "cell_type": "markdown",
   "metadata": {},
   "source": [
    "#### 首字母小写\n",
    "如下方法将令给定字符串的第一个字符统一为小写。"
   ]
  },
  {
   "cell_type": "code",
   "execution_count": 33,
   "metadata": {},
   "outputs": [
    {
     "data": {
      "text/plain": [
       "'fooBar'"
      ]
     },
     "execution_count": 33,
     "metadata": {},
     "output_type": "execute_result"
    }
   ],
   "source": [
    "def decapitalize(str):\n",
    "    return str[:1].lower() + str[1:]\n",
    "\n",
    "decapitalize('FooBar')"
   ]
  },
  {
   "cell_type": "markdown",
   "metadata": {},
   "source": [
    "#### 展开列表\n",
    "该方法将通过递归的方式将列表的嵌套展开为单个列表。"
   ]
  },
  {
   "cell_type": "code",
   "execution_count": 35,
   "metadata": {},
   "outputs": [
    {
     "data": {
      "text/plain": [
       "[1, 2, 3, 4, 5]"
      ]
     },
     "execution_count": 35,
     "metadata": {},
     "output_type": "execute_result"
    }
   ],
   "source": [
    "def spread(arg):\n",
    "    ret = []\n",
    "    for i in arg:\n",
    "        if isinstance(i, list):\n",
    "            ret.extend(i)\n",
    "        else:\n",
    "            ret.append(i)\n",
    "    return ret\n",
    "\n",
    "def deep_flatten(lst):\n",
    "    result = []\n",
    "    result.extend(spread(list(map(lambda x: deep_flatten(x) if type(x) == list else x, lst))))\n",
    "    return result\n",
    "deep_flatten([1, [2], [[3], 4], 5])"
   ]
  },
  {
   "cell_type": "markdown",
   "metadata": {},
   "source": [
    "#### 列表的差\n",
    "返回第一个列表不在第二个列表中的元素与返回第二个列表不在第一个列表中的元素"
   ]
  },
  {
   "cell_type": "code",
   "execution_count": 38,
   "metadata": {},
   "outputs": [
    {
     "data": {
      "text/plain": [
       "([3], [4])"
      ]
     },
     "execution_count": 38,
     "metadata": {},
     "output_type": "execute_result"
    }
   ],
   "source": [
    "def difference(a, b):\n",
    "    set_a = set(a)\n",
    "    set_b = set(b)\n",
    "    comparison = set_a.difference(set_b)\n",
    "    comparison2 = set_b.difference(set_a)\n",
    "    return list(comparison),list(comparison2)\n",
    "\n",
    "difference([1,2,3], [1,2,4])"
   ]
  },
  {
   "cell_type": "markdown",
   "metadata": {},
   "source": [
    "#### 通过函数取差\n",
    "如下方法首先会应用一个给定的函数，然后再返回应用函数后结果有差别的列表元素。"
   ]
  },
  {
   "cell_type": "code",
   "execution_count": 41,
   "metadata": {},
   "outputs": [
    {
     "name": "stdout",
     "output_type": "stream",
     "text": [
      "[1.2]\n",
      "[{'x': 2}]\n"
     ]
    }
   ],
   "source": [
    "def difference_by(a, b, fn):\n",
    "    b = set(map(fn, b))\n",
    "    return [item for item in a if fn(item) not in b]\n",
    "\n",
    "from math import floor\n",
    "print(difference_by([2.1, 1.2], [2.3, 3.4],floor))\n",
    "print(difference_by([{ 'x': 2 }, { 'x': 1 }], [{ 'x': 1 }], lambda v : v['x']))"
   ]
  },
  {
   "cell_type": "markdown",
   "metadata": {},
   "source": [
    "#### 链式函数调用\n",
    "你可以在一行代码内调用多个函数。"
   ]
  },
  {
   "cell_type": "code",
   "execution_count": 42,
   "metadata": {},
   "outputs": [
    {
     "name": "stdout",
     "output_type": "stream",
     "text": [
      "-1\n"
     ]
    }
   ],
   "source": [
    "def add(a, b):\n",
    "    return a + b\n",
    "\n",
    "def subtract(a, b):\n",
    "    return a - b\n",
    "\n",
    "a, b = 4, 5\n",
    "print((subtract if a < b else add)(a, b)) "
   ]
  },
  {
   "cell_type": "markdown",
   "metadata": {},
   "source": [
    "#### 合并两个字典\n",
    "下面的方法将用于合并两个字典。"
   ]
  },
  {
   "cell_type": "code",
   "execution_count": 44,
   "metadata": {},
   "outputs": [
    {
     "name": "stdout",
     "output_type": "stream",
     "text": [
      "{'x': 1, 'y': 3, 'z': 4}\n"
     ]
    }
   ],
   "source": [
    "def merge_two_dicts(a, b):\n",
    "    c = a.copy()  # make a copy of a\n",
    "    c.update(b)  # modify keys and values of a with the ones from b\n",
    "    return c\n",
    "\n",
    "a = { 'x': 1, 'y': 2}\n",
    "b = { 'y': 3, 'z': 4}\n",
    "print(merge_two_dicts(a, b))"
   ]
  },
  {
   "cell_type": "code",
   "execution_count": 47,
   "metadata": {},
   "outputs": [
    {
     "name": "stdout",
     "output_type": "stream",
     "text": [
      "{'x': 1, 'y': 3, 'z': 4}\n"
     ]
    }
   ],
   "source": [
    "def merge_dictionaries(a, b):\n",
    "    return {**a, **b}\n",
    "\n",
    "a = { 'x': 1, 'y': 2}\n",
    "b = { 'y': 3, 'z': 4}\n",
    "print(merge_dictionaries(a, b))"
   ]
  },
  {
   "cell_type": "markdown",
   "metadata": {},
   "source": [
    "#### 将两个列表转化为字典\n",
    "如下方法将会把两个列表转化为单个字典"
   ]
  },
  {
   "cell_type": "code",
   "execution_count": 48,
   "metadata": {},
   "outputs": [
    {
     "name": "stdout",
     "output_type": "stream",
     "text": [
      "{'a': 2, 'b': 3, 'c': 4}\n"
     ]
    }
   ],
   "source": [
    "def to_dictionary(keys, values):\n",
    "    return dict(zip(keys, values))\n",
    "\n",
    "keys = [\"a\", \"b\", \"c\"]  \n",
    "values = [2, 3, 4]\n",
    "print(to_dictionary(keys, values))"
   ]
  },
  {
   "cell_type": "markdown",
   "metadata": {},
   "source": [
    "#### 使用枚举\n",
    "我们常用 For 循环来遍历某个列表，同样我们也能枚举列表的索引与值。"
   ]
  },
  {
   "cell_type": "code",
   "execution_count": 49,
   "metadata": {},
   "outputs": [
    {
     "name": "stdout",
     "output_type": "stream",
     "text": [
      "Value a Index  0\n",
      "Value b Index  1\n",
      "Value c Index  2\n",
      "Value d Index  3\n"
     ]
    }
   ],
   "source": [
    "list = [\"a\", \"b\", \"c\", \"d\"]\n",
    "for index, element in enumerate(list):\n",
    "    print(\"Value\", element, \"Index \", index, )"
   ]
  },
  {
   "cell_type": "markdown",
   "metadata": {},
   "source": [
    "#### 执行时间\n",
    "如下代码块可以用来计算执行特定代码所花费的时间。"
   ]
  },
  {
   "cell_type": "code",
   "execution_count": 50,
   "metadata": {},
   "outputs": [
    {
     "name": "stdout",
     "output_type": "stream",
     "text": [
      "3\n",
      "Time:  0.0009965896606445312\n"
     ]
    }
   ],
   "source": [
    "import time\n",
    "\n",
    "start_time = time.time()\n",
    "\n",
    "a = 1\n",
    "b = 2\n",
    "c = a + b\n",
    "print(c) #3\n",
    "\n",
    "end_time = time.time()\n",
    "total_time = end_time - start_time\n",
    "print(\"Time: \", total_time)"
   ]
  },
  {
   "cell_type": "markdown",
   "metadata": {},
   "source": [
    "#### Try else\n",
    "我们在使用 try/except 语句的时候也可以加一个 else 子句，如果没有触发错误的话，这个子句就会被运行。"
   ]
  },
  {
   "cell_type": "code",
   "execution_count": 53,
   "metadata": {},
   "outputs": [
    {
     "name": "stdout",
     "output_type": "stream",
     "text": [
      "6\n",
      "Thank God, no exceptions were raised.\n"
     ]
    }
   ],
   "source": [
    "try:\n",
    "    print(2*3)\n",
    "except TypeError:\n",
    "    print(\"An exception was raised\")\n",
    "else:\n",
    "    print(\"Thank God, no exceptions were raised.\")"
   ]
  },
  {
   "cell_type": "markdown",
   "metadata": {},
   "source": [
    "#### 元素频率\n",
    "下面的方法会根据元素频率取列表中最常见的元素。"
   ]
  },
  {
   "cell_type": "code",
   "execution_count": 54,
   "metadata": {},
   "outputs": [
    {
     "data": {
      "text/plain": [
       "2"
      ]
     },
     "execution_count": 54,
     "metadata": {},
     "output_type": "execute_result"
    }
   ],
   "source": [
    "def most_frequent(list):\n",
    "    return max(set(list), key = list.count)\n",
    "\n",
    "list = [1,2,1,2,3,2,1,4,2]\n",
    "most_frequent(list) "
   ]
  },
  {
   "cell_type": "markdown",
   "metadata": {},
   "source": [
    "#### 回文序列\n",
    "以下方法会检查给定的字符串是不是回文序列，它首先会把所有字母转化为小写，并移除非英文字母符号。最后，它会对比字符串与反向字符串是否相等，相等则表示为回文序列。"
   ]
  },
  {
   "cell_type": "code",
   "execution_count": 57,
   "metadata": {},
   "outputs": [
    {
     "data": {
      "text/plain": [
       "True"
      ]
     },
     "execution_count": 57,
     "metadata": {},
     "output_type": "execute_result"
    }
   ],
   "source": [
    "def palindrome(string):\n",
    "    from re import sub\n",
    "    s = sub('[\\W_]', '', string.lower())\n",
    "    return s == s[::-1]\n",
    "\n",
    "palindrome('taco cat')"
   ]
  },
  {
   "cell_type": "markdown",
   "metadata": {},
   "source": [
    "#### 不使用 if-else 的计算子\n",
    "这一段代码可以不使用条件语句就实现加减乘除、求幂操作，它通过字典这一数据结构实现："
   ]
  },
  {
   "cell_type": "code",
   "execution_count": 59,
   "metadata": {},
   "outputs": [
    {
     "name": "stdout",
     "output_type": "stream",
     "text": [
      "1250\n"
     ]
    }
   ],
   "source": [
    "import operator\n",
    "action = {\n",
    "  \"+\": operator.add,\n",
    "  \"-\": operator.sub,\n",
    "  \"/\": operator.truediv,\n",
    "  \"*\": operator.mul,\n",
    "  \"**\": pow\n",
    "}\n",
    "print(action['*'](50, 25))"
   ]
  },
  {
   "cell_type": "markdown",
   "metadata": {},
   "source": [
    "#### Shuffle\n",
    "该算法会打乱列表元素的顺序，它主要会通过 Fisher-Yates 算法对新列表进行排序："
   ]
  },
  {
   "cell_type": "code",
   "execution_count": 95,
   "metadata": {},
   "outputs": [
    {
     "data": {
      "text/plain": [
       "[1, 3, 2]"
      ]
     },
     "execution_count": 95,
     "metadata": {},
     "output_type": "execute_result"
    }
   ],
   "source": [
    "import random\n",
    "def shuffle(lst):\n",
    "    random.shuffle(lst)\n",
    "    return lst\n",
    "foo = [1,2,3]\n",
    "shuffle(foo)"
   ]
  }
 ],
 "metadata": {
  "kernelspec": {
   "display_name": "Python 3",
   "language": "python",
   "name": "python3"
  },
  "language_info": {
   "codemirror_mode": {
    "name": "ipython",
    "version": 3
   },
   "file_extension": ".py",
   "mimetype": "text/x-python",
   "name": "python",
   "nbconvert_exporter": "python",
   "pygments_lexer": "ipython3",
   "version": "3.7.1"
  },
  "toc": {
   "base_numbering": 1,
   "nav_menu": {},
   "number_sections": true,
   "sideBar": true,
   "skip_h1_title": false,
   "title_cell": "Table of Contents",
   "title_sidebar": "Contents",
   "toc_cell": false,
   "toc_position": {},
   "toc_section_display": true,
   "toc_window_display": false
  }
 },
 "nbformat": 4,
 "nbformat_minor": 4
}
